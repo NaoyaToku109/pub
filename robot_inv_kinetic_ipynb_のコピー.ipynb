{
  "nbformat": 4,
  "nbformat_minor": 0,
  "metadata": {
    "colab": {
      "name": "robot_inv_kinetic.ipynb のコピー",
      "provenance": [],
      "collapsed_sections": [],
      "include_colab_link": true
    },
    "kernelspec": {
      "name": "python3",
      "display_name": "Python 3"
    },
    "language_info": {
      "name": "python"
    }
  },
  "cells": [
    {
      "cell_type": "markdown",
      "metadata": {
        "id": "view-in-github",
        "colab_type": "text"
      },
      "source": [
        "<a href=\"https://colab.research.google.com/github/nekobuta109/pub/blob/main/robot_inv_kinetic_ipynb_%E3%81%AE%E3%82%B3%E3%83%94%E3%83%BC.ipynb\" target=\"_parent\"><img src=\"https://colab.research.google.com/assets/colab-badge.svg\" alt=\"Open In Colab\"/></a>"
      ]
    },
    {
      "cell_type": "code",
      "metadata": {
        "id": "PaYgZn13Vi_4"
      },
      "source": [
        "import numpy as np\n",
        "import math\n",
        "\n",
        "#======================================================================================================\n",
        "#     const vals\n",
        "#======================================================================================================\n",
        "_l1 = 290\n",
        "_l2 = 290\n",
        "_l3 = 135\n",
        "\n",
        "#\tDFD6755 \tDFD6561 \tDFD6342\n",
        "#アーム1 \t290 \t220 \t140\n",
        "#アーム2 \t290 \t220 \t140\n",
        "#アーム3 \t135 \t140 \t150\n",
        "\n",
        "#======================================================================================================\n",
        "#     sub routines\n",
        "#======================================================================================================\n",
        "def _a(y,th):\n",
        "  a = y - (_l3*math.sin(math.radians(th)))\n",
        "  return a\n",
        "\n",
        "def _b(x,th):\n",
        "  b = x - (_l3*math.cos(math.radians(th)))\n",
        "  return b\n",
        "\n",
        "def _c(x,y,th):\n",
        "  a = _a(y,th)\n",
        "  b = _b(x,th)\n",
        "  c = ((a**2) + (b**2) + (_l1**2) - (_l2**2)) / (2*_l1)\n",
        "  return c\n",
        "def _d(x,y,th):\n",
        "  a = _a(y,th)\n",
        "  b = _b(x,th)\n",
        "  d = ((a**2) + (b**2) - (_l1**2) + (_l2**2))/ (2*_l2)\n",
        "  return d\n",
        "\n",
        "#===========================================================\n",
        "#   順運動公式\n",
        "#===========================================================\n",
        "def _arm1(q1):\n",
        "  p = [ _l1 * math.cos(q1) ,  _l1 * math.sin(q1) ]\n",
        "  return p\n",
        "def _arm2(q1,q2):\n",
        "  arm1 = _arm1(q1)\n",
        "  p = [ arm1[0] + (_l2*math.cos(q1+q2)) , arm1[1]+(_l2 * math.sin(q1+q2)) ]\n",
        "  return p\n",
        "def _arm3(q1,q2,q3):\n",
        "  arm2 = _arm2(q1,q2)\n",
        "  p = [ arm2[0] + (_l3*math.cos(q1+q2+q3)) , arm2[1] + (_l3*math.sin(q1+q2+q3)) ]\n",
        "  return p"
      ],
      "execution_count": null,
      "outputs": []
    },
    {
      "cell_type": "code",
      "metadata": {
        "colab": {
          "base_uri": "https://localhost:8080/",
          "height": 656
        },
        "id": "jvdOHHqhdljs",
        "outputId": "ffa16ca4-ba11-4816-85bb-233f10e1e192"
      },
      "source": [
        "#目的の座標です。\n",
        "x = 200\n",
        "y = 200\n",
        "th = 90     #アーム３の姿勢です。\n",
        "\n",
        "a = _a(y,th)    #リンク2までの\n",
        "b = _b(x,th)\n",
        "c = _c(x,y,th)\n",
        "d = _d(x,y,th)\n",
        "\n",
        "\n",
        "#====================================================\n",
        "#     φ\n",
        "#====================================================\n",
        "phy = math.atan2(a,b)\n",
        "print('a['+str(a)+'] / b['+str(b)+'] / c['+str(c)+'] / d[' + str(d) + '] phy[' + str(phy)+ ']' );\n",
        "\n",
        "#====================================================\n",
        "#     θ1\n",
        "#====================================================\n",
        "_sub_1 =math.atan2(math.sqrt((a**2)+(b**2)-(c**2)),c)\n",
        "q1 = [ phy -_sub_1 , phy + _sub_1 ]   #+-の2種類ある。\n",
        "\n",
        "#====================================================\n",
        "#     θ2\n",
        "#====================================================\n",
        "#q1 の二パターンにそれぞれ２つの符号がある。\n",
        "_sub_2  = math.atan2(math.sqrt((a**2)+(b**2)-(d**2)),d)\n",
        "q2 = [ phy - q1[0] + _sub_2 , phy - q1[1] - _sub_2 ] \n",
        "print(q2)\n",
        "\n",
        "#====================================================\n",
        "#     θ3\n",
        "#====================================================\n",
        "#toku このとき、q1は2個 、 q2は4個 解がある\n",
        "rad = math.radians(th)\n",
        "q3 = [ rad - (q1[0]+q2[0])  , rad - (q1[1]+q2[1]) ]\n",
        "\n",
        "import matplotlib.pyplot as plt\n",
        "#plt.xlim(-200,150)\n",
        "# (0,4)から(6,9)まで直線を引く\n",
        "# ax.plot([0, 6], [4, 9], color = \"sienna\")\n",
        "#アーム1までの直線です。\n",
        "for i in range(2):\n",
        "  plt.xlim(-300,300)\n",
        "  _q1 = q1[i]\n",
        "  _q2 = q2[i]\n",
        "  _q3 = q3[i]\n",
        "  arm = [ _arm1(_q1) , _arm2(_q1,_q2) , _arm3(_q1,_q2,_q3) ]\n",
        "\n",
        "  print('q1['+str(_q1)+'] / q2['+str(_q2)+'] / q3['+str(_q3))\n",
        "  print('q1['+str(math.degrees(_q1))+'] / q2['+str(math.degrees(_q2))+'] / q3['+str(math.degrees(_q3)))\n",
        "  print('xy (' + str(arm[2][0]) + ',' + str(arm[2][1]) + ')  θ:' + str(math.degrees(_q1+_q2+_q3)) )\n",
        "\n",
        "  plt.plot( [ 0         , arm[0][0] ] , [ 0         , arm[0][1] ] )\n",
        "  plt.plot( [ arm[0][0] , arm[1][0] ] , [ arm[0][1] , arm[1][1] ] )\n",
        "  plt.plot( [ arm[1][0] , arm[2][0] ] , [ arm[1][1] , arm[2][1] ] )\n",
        "  plt.show()\n"
      ],
      "execution_count": null,
      "outputs": [
        {
          "output_type": "stream",
          "text": [
            "a[65.0] / b[200.0] / c[76.25] / d[76.25] phy[0.3142318990843383]\n",
            "[2.3995193448495034, -2.3995193448495034]\n",
            "q1[-0.8855277733404134] / q2[2.3995193448495034] / q3[0.05680475528580664\n",
            "q1[-50.73700405402307] / q2[137.48233131987288] / q3[3.254672734150175\n",
            "xy (199.99999999999997,199.99999999999997)  θ:90.0\n"
          ],
          "name": "stdout"
        },
        {
          "output_type": "display_data",
          "data": {
            "image/png": "[encoded data removed]",
            "text/plain": [
              "<Figure size 432x288 with 1 Axes>"
            ]
          },
          "metadata": {
            "tags": [],
            "needs_background": "light"
          }
        },
        {
          "output_type": "stream",
          "text": [
            "q1[1.51399157150909] / q2[-2.3995193448495034] / q3[2.45632410013531\n",
            "q1[86.74532726584982] / q2[-137.48233131987288] / q3[140.7370040540231\n",
            "xy (199.99999999999994,199.99999999999997)  θ:90.00000000000001\n"
          ],
          "name": "stdout"
        },
        {
          "output_type": "display_data",
          "data": {
            "image/png": "[encoded data removed]",
            "text/plain": [
              "<Figure size 432x288 with 1 Axes>"
            ]
          },
          "metadata": {
            "tags": [],
            "needs_background": "light"
          }
        }
      ]
    },
    {
      "cell_type": "markdown",
      "metadata": {
        "id": "c4UhHerV1lnd"
      },
      "source": [
        "10枚のブレードが 90 °の位置を１枚目として均等にならんでいる。\n",
        "\n",
        "円の中心を(0,0)として、各ブレードの位置は、\n",
        "<Br>\n",
        "y = r sinθ<br>\n",
        "x = r cosθ\n"
      ]
    },
    {
      "cell_type": "code",
      "metadata": {
        "id": "WiYywXiW1lOF",
        "colab": {
          "base_uri": "https://localhost:8080/"
        },
        "outputId": "c25b5bb3-dcbc-4fb4-9d3c-ea5c29c2c93a"
      },
      "source": [
        "b_r = 100 #ブレードの位置を\n",
        "for t in range(90,-270,-36):\n",
        "  rad = np.radians(t);\n",
        "  print(str(t) +':'+ str(rad))\n",
        "  x = b_r * np.cos(rad);\n",
        "  y = b_r * np.sin(rad);\n",
        "  print('(' + str(int(x)) + ',' + str(int(y)) + ')');\n",
        "\n"
      ],
      "execution_count": null,
      "outputs": [
        {
          "output_type": "stream",
          "text": [
            "90:1.5707963267948966\n",
            "(0,100)\n",
            "54:0.9424777960769379\n",
            "(58,80)\n",
            "18:0.3141592653589793\n",
            "(95,30)\n",
            "-18:-0.3141592653589793\n",
            "(95,-30)\n",
            "-54:-0.9424777960769379\n",
            "(58,-80)\n",
            "-90:-1.5707963267948966\n",
            "(0,-100)\n",
            "-126:-2.199114857512855\n",
            "(-58,-80)\n",
            "-162:-2.827433388230814\n",
            "(-95,-30)\n",
            "-198:-3.4557519189487724\n",
            "(-95,30)\n",
            "-234:-4.084070449666731\n",
            "(-58,80)\n"
          ],
          "name": "stdout"
        }
      ]
    }
  ]
}