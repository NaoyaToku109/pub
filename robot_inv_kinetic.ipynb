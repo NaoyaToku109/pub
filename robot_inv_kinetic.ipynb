{
  "nbformat": 4,
  "nbformat_minor": 0,
  "metadata": {
    "colab": {
      "name": "robot_inv_kinetic.ipynb",
      "provenance": [],
      "collapsed_sections": [],
      "authorship_tag": "ABX9TyMF1MmubbNctWO3mtCbULmq",
      "include_colab_link": true
    },
    "kernelspec": {
      "name": "python3",
      "display_name": "Python 3"
    },
    "language_info": {
      "name": "python"
    }
  },
  "cells": [
    {
      "cell_type": "markdown",
      "metadata": {
        "id": "view-in-github",
        "colab_type": "text"
      },
      "source": [
        "<a href=\"https://colab.research.google.com/github/NaoyaToku109/pub/blob/main/robot_inv_kinetic.ipynb\" target=\"_parent\"><img src=\"https://colab.research.google.com/assets/colab-badge.svg\" alt=\"Open In Colab\"/></a>"
      ]
    },
    {
      "cell_type": "code",
      "metadata": {
        "id": "WvUZoztAYmD3"
      },
      "source": [
        "import numpy as np\n",
        "import math\n",
        "\n",
        "#======================================================================================================\n",
        "#     const vals\n",
        "#======================================================================================================\n",
        "_l1 = 220\n",
        "_l2 = 220\n",
        "_l3 = 140\n",
        "\n",
        "#\tDFD6755 \tDFD6561 \tDFD6342\n",
        "#アーム1 \t290 \t220 \t140\n",
        "#アーム2 \t290 \t220 \t140\n",
        "#アーム3 \t135 \t140 \t150\n",
        "\n",
        "#======================================================================================================\n",
        "#     sub routines\n",
        "#======================================================================================================\n",
        "def _a(y,th):\n",
        "  a = y - (_l3*math.sin(math.radians(th)))\n",
        "  return a\n",
        "\n",
        "def _b(x,th):\n",
        "  b = x - (_l3*math.cos(math.radians(th)))\n",
        "  return b\n",
        "\n",
        "def _c(x,y,th):\n",
        "  a = _a(y,th)\n",
        "  b = _b(x,th)\n",
        "  c = ((a**2) + (b**2) + (_l1**2) - (_l2**2)) / (2*_l1)\n",
        "  return c\n",
        "def _d(x,y,th):\n",
        "  a = _a(y,th)\n",
        "  b = _b(x,th)\n",
        "  d = ((a**2) + (b**2) - (_l1**2) + (_l2**2))/ (2*_l2)\n",
        "  return d\n",
        "\n",
        "#===========================================================\n",
        "#   順運動公式\n",
        "#===========================================================\n",
        "def _arm1(q1):\n",
        "  p = [ _l1 * math.cos(q1) ,  _l1 * math.sin(q1) ]\n",
        "  return p\n",
        "def _arm2(q1,q2):\n",
        "  arm1 = _arm1(q1)\n",
        "  p = [ arm1[0] + (_l2*math.cos(q1+q2)) , arm1[1]+(_l2 * math.sin(q1+q2)) ]\n",
        "  return p\n",
        "def _arm3(q1,q2,q3):\n",
        "  arm2 = _arm2(q1,q2)\n",
        "  p = [ arm2[0] + (_l3*math.cos(q1+q2+q3)) , arm2[1] + (_l3*math.sin(q1+q2+q3)) ]\n",
        "  return p\n"
      ],
      "execution_count": null,
      "outputs": []
    },
    {
      "cell_type": "code",
      "metadata": {
        "colab": {
          "base_uri": "https://localhost:8080/",
          "height": 615
        },
        "id": "jvdOHHqhdljs",
        "outputId": "319a115f-00ec-43c4-f589-139d48ae6039"
      },
      "source": [
        "#目的の座標です。\n",
        "x = -70\n",
        "y = 200\n",
        "th = 90     #アーム３の姿勢です。\n",
        "\n",
        "a = _a(y,th)    #リンク2までの\n",
        "b = _b(x,th)\n",
        "c = _c(x,y,th)\n",
        "d = _d(x,y,th)\n",
        "\n",
        "print('a['+str(a)+'] / b['+str(b)+'] / c['+str(c)+'] / d[' + str(d))\n",
        "\n",
        "#====================================================\n",
        "#     φ\n",
        "#====================================================\n",
        "phy = math.atan2(a,b)\n",
        "\n",
        "#====================================================\n",
        "#     θ1\n",
        "#====================================================\n",
        "_sub_1 =math.atan2(math.sqrt((a**2)+(b**2)-(c**2)),c)\n",
        "q1 = [ phy -_sub_1 , phy + _sub_1 ]   #+-の2種類ある。\n",
        "\n",
        "#====================================================\n",
        "#     θ2\n",
        "#====================================================\n",
        "#q1 の二パターンにそれぞれ２つの符号がある。\n",
        "_sub_2  = math.atan2(math.sqrt((a**2)+(b**2)-(d**2)),d)\n",
        "q2 = [ phy - q1[0] + _sub_2 , phy - q1[1] - _sub_2 ] \n",
        "print(q2)\n",
        "\n",
        "#====================================================\n",
        "#     θ3\n",
        "#====================================================\n",
        "#toku このとき、q1は2個 、 q2は4個 解がある\n",
        "rad = math.radians(th)\n",
        "q3 = [ rad - (q1[0]+q2[0])  , rad - (q1[1]+q2[1]) ]\n",
        "\n",
        "import matplotlib.pyplot as plt\n",
        "plt.xlim()\n",
        "# (0,4)から(6,9)まで直線を引く\n",
        "# ax.plot([0, 6], [4, 9], color = \"sienna\")\n",
        "#アーム1までの直線です。\n",
        "for i in range(2):\n",
        "  _q1 = q1[i]\n",
        "  _q2 = q2[i]\n",
        "  _q3 = q3[i]\n",
        "  arm = [ _arm1(_q1) , _arm2(_q1,_q2) , _arm3(_q1,_q2,_q3) ]\n",
        "\n",
        "  print('q1['+str(math.degrees(_q1))+'] / q2['+str(math.degrees(_q2))+'] / q3['+str(math.degrees(_q3)))\n",
        "  print('xy (' + str(arm[2][0]) + ',' + str(arm[2][1]) + ')  θ:' + str(math.degrees(_q1+_q2+_q3)) )\n",
        "\n",
        "  plt.plot( [ 0         , arm[0][0] ] , [ 0         , arm[0][1] ] )\n",
        "  plt.plot( [ arm[0][0] , arm[1][0] ] , [ arm[0][1] , arm[1][1] ] )\n",
        "  plt.plot( [ arm[1][0] , arm[2][0] ] , [ arm[1][1] , arm[2][1] ] )\n",
        "  plt.show()\n"
      ],
      "execution_count": null,
      "outputs": [
        {
          "output_type": "stream",
          "text": [
            "a[60.0] / b[-70.00000000000001] / c[19.318181818181817] / d[19.318181818181817\n",
            "[2.7193936890048964, -2.719393689004897]\n",
            "q1[61.4938147477495] / q2[155.80978121449212] / q3[-127.30359596224162\n",
            "xy (-69.99999999999993,199.99999999999991)  θ:90.0\n"
          ],
          "name": "stdout"
        },
        {
          "output_type": "display_data",
          "data": {
            "image/png": "[encoded data removed]",
            "text/plain": [
              "<Figure size 432x288 with 1 Axes>"
            ]
          },
          "metadata": {
            "tags": [],
            "needs_background": "light"
          }
        },
        {
          "output_type": "stream",
          "text": [
            "q1[217.30359596224162] / q2[-155.80978121449212] / q3[28.506185252250518\n",
            "xy (-69.99999999999987,199.9999999999999)  θ:90.0\n"
          ],
          "name": "stdout"
        },
        {
          "output_type": "display_data",
          "data": {
            "image/png": "[encoded data removed]",
            "text/plain": [
              "<Figure size 432x288 with 1 Axes>"
            ]
          },
          "metadata": {
            "tags": [],
            "needs_background": "light"
          }
        }
      ]
    }
  ]
}